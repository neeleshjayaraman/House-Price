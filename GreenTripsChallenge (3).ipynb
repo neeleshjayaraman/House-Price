{
 "cells": [
  {
   "cell_type": "code",
   "execution_count": 1,
   "metadata": {
    "collapsed": true
   },
   "outputs": [],
   "source": [
    "#Importing standard libraries to aid in performing the data analysis\n",
    "\n",
    "import pandas as pd\n",
    "import numpy as np\n",
    "from pandas import Series, DataFrame\n",
    "import matplotlib.pyplot as plt\n",
    "%matplotlib inline\n",
    "import seaborn as sns\n",
    "sns.set_style('whitegrid')\n",
    "from datetime import datetime"
   ]
  },
  {
   "cell_type": "markdown",
   "metadata": {},
   "source": [
    "# Question 1\n",
    "\n",
    "1. Programmatically download and load into your favorite analytical tool the trip data for September 2015.\n",
    "\n",
    "2. Report how many rows and columns of data you have loaded."
   ]
  },
  {
   "cell_type": "code",
   "execution_count": 2,
   "metadata": {
    "collapsed": false
   },
   "outputs": [
    {
     "data": {
      "text/html": [
       "<div>\n",
       "<style>\n",
       "    .dataframe thead tr:only-child th {\n",
       "        text-align: right;\n",
       "    }\n",
       "\n",
       "    .dataframe thead th {\n",
       "        text-align: left;\n",
       "    }\n",
       "\n",
       "    .dataframe tbody tr th {\n",
       "        vertical-align: top;\n",
       "    }\n",
       "</style>\n",
       "<table border=\"1\" class=\"dataframe\">\n",
       "  <thead>\n",
       "    <tr style=\"text-align: right;\">\n",
       "      <th></th>\n",
       "      <th>VendorID</th>\n",
       "      <th>lpep_pickup_datetime</th>\n",
       "      <th>Lpep_dropoff_datetime</th>\n",
       "      <th>Store_and_fwd_flag</th>\n",
       "      <th>RateCodeID</th>\n",
       "      <th>Pickup_longitude</th>\n",
       "      <th>Pickup_latitude</th>\n",
       "      <th>Dropoff_longitude</th>\n",
       "      <th>Dropoff_latitude</th>\n",
       "      <th>Passenger_count</th>\n",
       "      <th>...</th>\n",
       "      <th>Fare_amount</th>\n",
       "      <th>Extra</th>\n",
       "      <th>MTA_tax</th>\n",
       "      <th>Tip_amount</th>\n",
       "      <th>Tolls_amount</th>\n",
       "      <th>Ehail_fee</th>\n",
       "      <th>improvement_surcharge</th>\n",
       "      <th>Total_amount</th>\n",
       "      <th>Payment_type</th>\n",
       "      <th>Trip_type</th>\n",
       "    </tr>\n",
       "  </thead>\n",
       "  <tbody>\n",
       "    <tr>\n",
       "      <th>0</th>\n",
       "      <td>2</td>\n",
       "      <td>2015-09-01 00:02:34</td>\n",
       "      <td>2015-09-01 00:02:38</td>\n",
       "      <td>N</td>\n",
       "      <td>5</td>\n",
       "      <td>-73.979485</td>\n",
       "      <td>40.684956</td>\n",
       "      <td>-73.979431</td>\n",
       "      <td>40.685020</td>\n",
       "      <td>1</td>\n",
       "      <td>...</td>\n",
       "      <td>7.8</td>\n",
       "      <td>0.0</td>\n",
       "      <td>0.0</td>\n",
       "      <td>1.95</td>\n",
       "      <td>0.0</td>\n",
       "      <td>NaN</td>\n",
       "      <td>0.0</td>\n",
       "      <td>9.75</td>\n",
       "      <td>1</td>\n",
       "      <td>2.0</td>\n",
       "    </tr>\n",
       "    <tr>\n",
       "      <th>1</th>\n",
       "      <td>2</td>\n",
       "      <td>2015-09-01 00:04:20</td>\n",
       "      <td>2015-09-01 00:04:24</td>\n",
       "      <td>N</td>\n",
       "      <td>5</td>\n",
       "      <td>-74.010796</td>\n",
       "      <td>40.912216</td>\n",
       "      <td>-74.010780</td>\n",
       "      <td>40.912212</td>\n",
       "      <td>1</td>\n",
       "      <td>...</td>\n",
       "      <td>45.0</td>\n",
       "      <td>0.0</td>\n",
       "      <td>0.0</td>\n",
       "      <td>0.00</td>\n",
       "      <td>0.0</td>\n",
       "      <td>NaN</td>\n",
       "      <td>0.0</td>\n",
       "      <td>45.00</td>\n",
       "      <td>1</td>\n",
       "      <td>2.0</td>\n",
       "    </tr>\n",
       "    <tr>\n",
       "      <th>2</th>\n",
       "      <td>2</td>\n",
       "      <td>2015-09-01 00:01:50</td>\n",
       "      <td>2015-09-01 00:04:24</td>\n",
       "      <td>N</td>\n",
       "      <td>1</td>\n",
       "      <td>-73.921410</td>\n",
       "      <td>40.766708</td>\n",
       "      <td>-73.914413</td>\n",
       "      <td>40.764687</td>\n",
       "      <td>1</td>\n",
       "      <td>...</td>\n",
       "      <td>4.0</td>\n",
       "      <td>0.5</td>\n",
       "      <td>0.5</td>\n",
       "      <td>0.50</td>\n",
       "      <td>0.0</td>\n",
       "      <td>NaN</td>\n",
       "      <td>0.3</td>\n",
       "      <td>5.80</td>\n",
       "      <td>1</td>\n",
       "      <td>1.0</td>\n",
       "    </tr>\n",
       "    <tr>\n",
       "      <th>3</th>\n",
       "      <td>2</td>\n",
       "      <td>2015-09-01 00:02:36</td>\n",
       "      <td>2015-09-01 00:06:42</td>\n",
       "      <td>N</td>\n",
       "      <td>1</td>\n",
       "      <td>-73.921387</td>\n",
       "      <td>40.766678</td>\n",
       "      <td>-73.931427</td>\n",
       "      <td>40.771584</td>\n",
       "      <td>1</td>\n",
       "      <td>...</td>\n",
       "      <td>5.0</td>\n",
       "      <td>0.5</td>\n",
       "      <td>0.5</td>\n",
       "      <td>0.00</td>\n",
       "      <td>0.0</td>\n",
       "      <td>NaN</td>\n",
       "      <td>0.3</td>\n",
       "      <td>6.30</td>\n",
       "      <td>2</td>\n",
       "      <td>1.0</td>\n",
       "    </tr>\n",
       "    <tr>\n",
       "      <th>4</th>\n",
       "      <td>2</td>\n",
       "      <td>2015-09-01 00:00:14</td>\n",
       "      <td>2015-09-01 00:04:20</td>\n",
       "      <td>N</td>\n",
       "      <td>1</td>\n",
       "      <td>-73.955482</td>\n",
       "      <td>40.714046</td>\n",
       "      <td>-73.944412</td>\n",
       "      <td>40.714729</td>\n",
       "      <td>1</td>\n",
       "      <td>...</td>\n",
       "      <td>5.0</td>\n",
       "      <td>0.5</td>\n",
       "      <td>0.5</td>\n",
       "      <td>0.00</td>\n",
       "      <td>0.0</td>\n",
       "      <td>NaN</td>\n",
       "      <td>0.3</td>\n",
       "      <td>6.30</td>\n",
       "      <td>2</td>\n",
       "      <td>1.0</td>\n",
       "    </tr>\n",
       "  </tbody>\n",
       "</table>\n",
       "<p>5 rows × 21 columns</p>\n",
       "</div>"
      ],
      "text/plain": [
       "   VendorID lpep_pickup_datetime Lpep_dropoff_datetime Store_and_fwd_flag  \\\n",
       "0         2  2015-09-01 00:02:34   2015-09-01 00:02:38                  N   \n",
       "1         2  2015-09-01 00:04:20   2015-09-01 00:04:24                  N   \n",
       "2         2  2015-09-01 00:01:50   2015-09-01 00:04:24                  N   \n",
       "3         2  2015-09-01 00:02:36   2015-09-01 00:06:42                  N   \n",
       "4         2  2015-09-01 00:00:14   2015-09-01 00:04:20                  N   \n",
       "\n",
       "   RateCodeID  Pickup_longitude  Pickup_latitude  Dropoff_longitude  \\\n",
       "0           5        -73.979485        40.684956         -73.979431   \n",
       "1           5        -74.010796        40.912216         -74.010780   \n",
       "2           1        -73.921410        40.766708         -73.914413   \n",
       "3           1        -73.921387        40.766678         -73.931427   \n",
       "4           1        -73.955482        40.714046         -73.944412   \n",
       "\n",
       "   Dropoff_latitude  Passenger_count     ...      Fare_amount  Extra  MTA_tax  \\\n",
       "0         40.685020                1     ...              7.8    0.0      0.0   \n",
       "1         40.912212                1     ...             45.0    0.0      0.0   \n",
       "2         40.764687                1     ...              4.0    0.5      0.5   \n",
       "3         40.771584                1     ...              5.0    0.5      0.5   \n",
       "4         40.714729                1     ...              5.0    0.5      0.5   \n",
       "\n",
       "   Tip_amount  Tolls_amount  Ehail_fee  improvement_surcharge  Total_amount  \\\n",
       "0        1.95           0.0        NaN                    0.0          9.75   \n",
       "1        0.00           0.0        NaN                    0.0         45.00   \n",
       "2        0.50           0.0        NaN                    0.3          5.80   \n",
       "3        0.00           0.0        NaN                    0.3          6.30   \n",
       "4        0.00           0.0        NaN                    0.3          6.30   \n",
       "\n",
       "   Payment_type  Trip_type   \n",
       "0             1         2.0  \n",
       "1             1         2.0  \n",
       "2             1         1.0  \n",
       "3             2         1.0  \n",
       "4             2         1.0  \n",
       "\n",
       "[5 rows x 21 columns]"
      ]
     },
     "execution_count": 2,
     "metadata": {},
     "output_type": "execute_result"
    }
   ],
   "source": [
    "#Code to load the data into the iPython Notebook\n",
    "\n",
    "trip_df= pd.read_csv('green_tripdata_2015-09.csv')\n",
    "trip_df.head()\n"
   ]
  },
  {
   "cell_type": "code",
   "execution_count": 3,
   "metadata": {
    "collapsed": false
   },
   "outputs": [
    {
     "name": "stdout",
     "output_type": "stream",
     "text": [
      "<class 'pandas.core.frame.DataFrame'>\n",
      "RangeIndex: 1494926 entries, 0 to 1494925\n",
      "Data columns (total 21 columns):\n",
      "VendorID                 1494926 non-null int64\n",
      "lpep_pickup_datetime     1494926 non-null object\n",
      "Lpep_dropoff_datetime    1494926 non-null object\n",
      "Store_and_fwd_flag       1494926 non-null object\n",
      "RateCodeID               1494926 non-null int64\n",
      "Pickup_longitude         1494926 non-null float64\n",
      "Pickup_latitude          1494926 non-null float64\n",
      "Dropoff_longitude        1494926 non-null float64\n",
      "Dropoff_latitude         1494926 non-null float64\n",
      "Passenger_count          1494926 non-null int64\n",
      "Trip_distance            1494926 non-null float64\n",
      "Fare_amount              1494926 non-null float64\n",
      "Extra                    1494926 non-null float64\n",
      "MTA_tax                  1494926 non-null float64\n",
      "Tip_amount               1494926 non-null float64\n",
      "Tolls_amount             1494926 non-null float64\n",
      "Ehail_fee                0 non-null float64\n",
      "improvement_surcharge    1494926 non-null float64\n",
      "Total_amount             1494926 non-null float64\n",
      "Payment_type             1494926 non-null int64\n",
      "Trip_type                1494922 non-null float64\n",
      "dtypes: float64(14), int64(4), object(3)\n",
      "memory usage: 239.5+ MB\n"
     ]
    }
   ],
   "source": [
    "#Shows the columns in the dataset\n",
    "trip_df.info()"
   ]
  },
  {
   "cell_type": "code",
   "execution_count": 4,
   "metadata": {
    "collapsed": false
   },
   "outputs": [
    {
     "data": {
      "text/plain": [
       "(1494926, 21)"
      ]
     },
     "execution_count": 4,
     "metadata": {},
     "output_type": "execute_result"
    }
   ],
   "source": [
    "#Displays the total number of rows and columns in the dataset\n",
    "\n",
    "trip_df.shape"
   ]
  },
  {
   "cell_type": "markdown",
   "metadata": {},
   "source": [
    "# Question 2\n",
    "\n",
    "1. Plot a histogram of the number of the trip distance (\"Trip Distance\").\n",
    "\n",
    "2. Report any structure you find and any hypotheses you have about that structure."
   ]
  },
  {
   "cell_type": "code",
   "execution_count": 5,
   "metadata": {
    "collapsed": false
   },
   "outputs": [
    {
     "data": {
      "text/plain": [
       "<matplotlib.axes._subplots.AxesSubplot at 0x20b5d416588>"
      ]
     },
     "execution_count": 5,
     "metadata": {},
     "output_type": "execute_result"
    },
    {
     "data": {
      "image/png": "[encoded data removed]",
      "text/plain": [
       "<matplotlib.figure.Figure at 0x20b7c188908>"
      ]
     },
     "metadata": {},
     "output_type": "display_data"
    }
   ],
   "source": [
    "trip_df['Trip_distance'].hist(bins=100)"
   ]
  },
  {
   "cell_type": "code",
   "execution_count": 6,
   "metadata": {
    "collapsed": false
   },
   "outputs": [
    {
     "data": {
      "text/plain": [
       "0.00     20592\n",
       "1.00     16735\n",
       "0.90     16699\n",
       "0.80     16152\n",
       "1.10     16070\n",
       "1.20     15212\n",
       "1.30     14731\n",
       "0.70     14365\n",
       "1.40     13789\n",
       "1.50     12898\n",
       "0.60     12552\n",
       "1.60     11893\n",
       "1.70     11077\n",
       "1.80     10311\n",
       "0.50      9864\n",
       "1.90      9734\n",
       "2.00      9190\n",
       "2.10      8528\n",
       "2.20      8363\n",
       "2.30      7788\n",
       "2.40      7384\n",
       "2.50      7154\n",
       "2.60      6715\n",
       "2.80      6452\n",
       "0.40      6439\n",
       "2.70      6371\n",
       "2.90      6018\n",
       "3.00      5797\n",
       "3.10      5550\n",
       "3.20      5330\n",
       "         ...  \n",
       "61.21        1\n",
       "30.68        1\n",
       "45.50        1\n",
       "29.27        1\n",
       "30.27        1\n",
       "26.84        1\n",
       "29.86        1\n",
       "45.19        1\n",
       "50.43        1\n",
       "45.94        1\n",
       "44.06        1\n",
       "40.94        1\n",
       "27.42        1\n",
       "23.89        1\n",
       "31.36        1\n",
       "23.61        1\n",
       "40.87        1\n",
       "31.60        1\n",
       "40.06        1\n",
       "25.34        1\n",
       "40.31        1\n",
       "35.76        1\n",
       "32.24        1\n",
       "30.02        1\n",
       "55.16        1\n",
       "23.64        1\n",
       "23.86        1\n",
       "25.59        1\n",
       "40.19        1\n",
       "31.64        1\n",
       "Name: Trip_distance, Length: 3210, dtype: int64"
      ]
     },
     "execution_count": 6,
     "metadata": {},
     "output_type": "execute_result"
    }
   ],
   "source": [
    "trip_df['Trip_distance'].value_counts()"
   ]
  },
  {
   "cell_type": "code",
   "execution_count": 7,
   "metadata": {
    "collapsed": false
   },
   "outputs": [
    {
     "data": {
      "text/plain": [
       "<matplotlib.text.Text at 0x20b0066e358>"
      ]
     },
     "execution_count": 7,
     "metadata": {},
     "output_type": "execute_result"
    },
    {
     "data": {
      "image/png": "[encoded data removed]",
      "text/plain": [
       "<matplotlib.figure.Figure at 0x20b0059aac8>"
      ]
     },
     "metadata": {},
     "output_type": "display_data"
    }
   ],
   "source": [
    "plt.hist(trip_df['Trip_distance'][trip_df['Trip_distance']<20],bins = 100)\n",
    "plt.title('Histogram of trip distances')\n",
    "plt.xlabel('Trip Distance')\n",
    "plt.ylabel('No of occurences')"
   ]
  },
  {
   "cell_type": "markdown",
   "metadata": {
    "collapsed": true
   },
   "source": [
    "## This above Histogram shows us that the occurences were higher for short trip distances and the occurences reduced as the distance increased. The trips are not random. If they were random, we would have a symmetric Gaussian distribution."
   ]
  },
  {
   "cell_type": "markdown",
   "metadata": {
    "collapsed": true
   },
   "source": [
    "# Question 3\n",
    "1. Report mean and median trip distance grouped by hour of day.\n",
    "\n",
    "2. We'd like to get a rough sense of identifying trips that originate or terminate at one of the NYC area airports. Can you provide a count of how many transactions fit this criteria, the average fair, and any other interesting characteristics of these trips."
   ]
  },
  {
   "cell_type": "code",
   "execution_count": 8,
   "metadata": {
    "collapsed": false
   },
   "outputs": [
    {
     "data": {
      "text/plain": [
       "0    2015-09-01 00:02:34\n",
       "1    2015-09-01 00:04:20\n",
       "2    2015-09-01 00:01:50\n",
       "3    2015-09-01 00:02:36\n",
       "4    2015-09-01 00:00:14\n",
       "Name: lpep_pickup_datetime, dtype: object"
      ]
     },
     "execution_count": 8,
     "metadata": {},
     "output_type": "execute_result"
    }
   ],
   "source": [
    "trip_df['lpep_pickup_datetime'].head()"
   ]
  },
  {
   "cell_type": "code",
   "execution_count": 9,
   "metadata": {
    "collapsed": true
   },
   "outputs": [],
   "source": [
    "\n",
    "trip_df['pickup'] = trip_df['lpep_pickup_datetime'].apply(lambda x: \n",
    "                                                       datetime.strptime(x, '%Y-%m-%d %H:%M:%S'))"
   ]
  },
  {
   "cell_type": "code",
   "execution_count": 10,
   "metadata": {
    "collapsed": true
   },
   "outputs": [],
   "source": [
    "#collecting hourly statistics in order to give the mean and median by the hour of the day\n",
    "trip_df['pickup_hour'] = trip_df['pickup'].apply(lambda x: x.hour)"
   ]
  },
  {
   "cell_type": "code",
   "execution_count": 11,
   "metadata": {
    "collapsed": true
   },
   "outputs": [],
   "source": [
    "trip_df['dropoff'] = trip_df['Lpep_dropoff_datetime'].apply(lambda x: \n",
    "                                                       datetime.strptime(x, '%Y-%m-%d %H:%M:%S'))\n",
    "trip_df['dropoff_hour'] = trip_df['dropoff'].apply(lambda x: x.hour)"
   ]
  },
  {
   "cell_type": "code",
   "execution_count": 12,
   "metadata": {
    "collapsed": false
   },
   "outputs": [
    {
     "data": {
      "image/png": "[encoded data removed]",
      "text/plain": [
       "<matplotlib.figure.Figure at 0x20b00031ac8>"
      ]
     },
     "metadata": {},
     "output_type": "display_data"
    },
    {
     "data": {
      "image/png": "[encoded data removed]",
      "text/plain": [
       "<matplotlib.figure.Figure at 0x20b0061b278>"
      ]
     },
     "metadata": {},
     "output_type": "display_data"
    }
   ],
   "source": [
    "#Plotting the mean and median trip distance grouped by the hour of the day\n",
    "\n",
    "trip_df[['Trip_distance','pickup_hour']].groupby('pickup_hour').mean().plot.bar()\n",
    "plt.title('Mean trip distance')\n",
    "plt.ylabel('Miles')\n",
    "plt.show()\n",
    "\n",
    "trip_df[['Trip_distance','pickup_hour']].groupby('pickup_hour').median().plot.bar()\n",
    "plt.title('Median trip distance')\n",
    "plt.ylabel('Miles')\n",
    "plt.show()"
   ]
  },
  {
   "cell_type": "markdown",
   "metadata": {},
   "source": [
    "Looking at the dataset we know that JFK and Newark are the two airports in the NYC area having RateCode IDs 2 and 3. So, we use them for our analysis."
   ]
  },
  {
   "cell_type": "code",
   "execution_count": 13,
   "metadata": {
    "collapsed": false
   },
   "outputs": [
    {
     "name": "stdout",
     "output_type": "stream",
     "text": [
      "Number of trips to/from NYC airports:  5552\n",
      "Average fare of trips to/from NYC airports: $ 48.976945244956774 per trip\n",
      "Average total charged amount of trips to/from NYC airports: $ 57.20842038904719 per trip\n"
     ]
    }
   ],
   "source": [
    "#Average trips to/from NYC area airports\n",
    "#Creating airport_trips to help in our analysis\n",
    "\n",
    "airports_trips = trip_df[(trip_df.RateCodeID==2) | (trip_df.RateCodeID==3)]\n",
    "\n",
    "print(\"Number of trips to/from NYC airports: \", airports_trips.shape[0])\n",
    "print(\"Average fare of trips to/from NYC airports: $\", airports_trips.Fare_amount.mean(),\"per trip\")\n",
    "print(\"Average total charged amount of trips to/from NYC airports: $\", airports_trips.Total_amount.mean(),\"per trip\")\n"
   ]
  },
  {
   "cell_type": "markdown",
   "metadata": {},
   "source": [
    "# Question 5\n",
    "Choose only one of these options to answer for Question 5. There is no preference as to which one you choose. Please select the question that you feel best suits your particular skills and/or expertise. If you answer more than one, only the first will be scored.\n",
    "Option A: Distributions\n",
    "o    Build a derived variable representing the average speed over the course of a trip.\n",
    "\n",
    "o    Can you perform a test to determine if the average trip speeds are materially the same in all weeks of September? If you decide they are not the same, can you form a hypothesis regarding why they differ?\n",
    "\n",
    "o    Can you build up a hypothesis of average trip speed as a function of time of day?\n",
    "\n"
   ]
  },
  {
   "cell_type": "code",
   "execution_count": 14,
   "metadata": {
    "collapsed": true
   },
   "outputs": [],
   "source": [
    "#import statistics libraries for visualization\n",
    "\n",
    "import scipy.stats as stats\n",
    "import statistics"
   ]
  },
  {
   "cell_type": "code",
   "execution_count": 15,
   "metadata": {
    "collapsed": true
   },
   "outputs": [],
   "source": [
    "ans_t = (trip_df['dropoff'] - trip_df['pickup']).apply(lambda x: x.total_seconds())\n"
   ]
  },
  {
   "cell_type": "code",
   "execution_count": 16,
   "metadata": {
    "collapsed": false
   },
   "outputs": [
    {
     "name": "stdout",
     "output_type": "stream",
     "text": [
      "Percentage of entries with travel time less than a minute:  1.7081781974492383 %\n"
     ]
    }
   ],
   "source": [
    "#Omitting entries with less than a minute travel time\n",
    "\n",
    "print('Percentage of entries with travel time less than a minute: ',100 * trip_df[ans_t < 60].shape[0]/trip_df.shape[0],'%')"
   ]
  },
  {
   "cell_type": "code",
   "execution_count": 17,
   "metadata": {
    "collapsed": true
   },
   "outputs": [],
   "source": [
    "#Code for Finding the average speed\n",
    "trip_df['travel_time'] = (trip_df['dropoff'] - trip_df['pickup']).apply(lambda x: x.total_seconds()) \n",
    "trip_df = trip_df[trip_df['travel_time'] > 60]\n",
    "trip_df['average_speed'] = 3600*(trip_df['Trip_distance']/trip_df['travel_time'])"
   ]
  },
  {
   "cell_type": "code",
   "execution_count": 18,
   "metadata": {
    "collapsed": false
   },
   "outputs": [
    {
     "data": {
      "text/plain": [
       "<matplotlib.axes._subplots.AxesSubplot at 0x20b00b93dd8>"
      ]
     },
     "execution_count": 18,
     "metadata": {},
     "output_type": "execute_result"
    },
    {
     "data": {
      "image/png": "[encoded data removed]",
      "text/plain": [
       "<matplotlib.figure.Figure at 0x20b0068ce10>"
      ]
     },
     "metadata": {},
     "output_type": "display_data"
    }
   ],
   "source": [
    "trip_df['average_speed'].plot.hist(bins=300)\n"
   ]
  },
  {
   "cell_type": "markdown",
   "metadata": {},
   "source": [
    "We remove the entries with over 100 miles per hour of average speed as it is unreasonable and a result of erroneous data."
   ]
  },
  {
   "cell_type": "code",
   "execution_count": 19,
   "metadata": {
    "collapsed": false
   },
   "outputs": [
    {
     "name": "stdout",
     "output_type": "stream",
     "text": [
      "No of entries with average speed over 100 miles per hour:  105\n"
     ]
    }
   ],
   "source": [
    "print('No of entries with average speed over 100 miles per hour: ',(trip_df['average_speed']>200).value_counts()[1])\n",
    "trip_df = trip_df[trip_df['average_speed']<200]"
   ]
  },
  {
   "cell_type": "code",
   "execution_count": 20,
   "metadata": {
    "collapsed": true
   },
   "outputs": [],
   "source": [
    "trip_df['week'] = trip_df['dropoff'].apply(lambda x: x.week)\n"
   ]
  },
  {
   "cell_type": "code",
   "execution_count": 21,
   "metadata": {
    "collapsed": true
   },
   "outputs": [],
   "source": [
    "week_1 = trip_df['average_speed'][trip_df['week']==36].as_matrix()\n",
    "week_2 = trip_df['average_speed'][trip_df['week']==37].as_matrix()\n",
    "week_3 = trip_df['average_speed'][trip_df['week']==38].as_matrix()\n",
    "week_4 = trip_df['average_speed'][trip_df['week']==39].as_matrix()\n",
    "week_5 = trip_df['average_speed'][trip_df['week']==40].as_matrix()\n"
   ]
  },
  {
   "cell_type": "code",
   "execution_count": 22,
   "metadata": {
    "collapsed": false
   },
   "outputs": [
    {
     "data": {
      "text/plain": [
       "F_onewayResult(statistic=1020.0249648527437, pvalue=0.0)"
      ]
     },
     "execution_count": 22,
     "metadata": {},
     "output_type": "execute_result"
    }
   ],
   "source": [
    "stats.f_oneway(week_1,week_2, week_3,week_4, week_5)\n"
   ]
  },
  {
   "cell_type": "markdown",
   "metadata": {},
   "source": [
    "## The test indicates a large f-value and a small p-value, therefore we reject the null hypothesis and we conclude that the differences between the groups are statistically significant which implies that the week of the month does seem to be related to the average speed. "
   ]
  },
  {
   "cell_type": "code",
   "execution_count": 23,
   "metadata": {
    "collapsed": false
   },
   "outputs": [
    {
     "name": "stdout",
     "output_type": "stream",
     "text": [
      "13.3794322197 12.7228267331 12.7112137556 13.1891258526 12.4681156963\n"
     ]
    }
   ],
   "source": [
    "print(week_1.mean(),week_2.mean(),week_3.mean(),week_4.mean(),week_5.mean())\n"
   ]
  },
  {
   "cell_type": "code",
   "execution_count": 24,
   "metadata": {
    "collapsed": false
   },
   "outputs": [
    {
     "name": "stdout",
     "output_type": "stream",
     "text": [
      "12.1282487929 11.6170212766 11.6387959866 12.0286396181 11.421686747\n"
     ]
    }
   ],
   "source": [
    "print(statistics.median(week_1),statistics.median(week_2),statistics.median(week_3),statistics.median(week_4),\n",
    "      statistics.median(week_5))\n"
   ]
  },
  {
   "cell_type": "code",
   "execution_count": 25,
   "metadata": {
    "collapsed": false
   },
   "outputs": [
    {
     "data": {
      "image/png": "[encoded data removed]",
      "text/plain": [
       "<matplotlib.figure.Figure at 0x20b00b80f98>"
      ]
     },
     "metadata": {},
     "output_type": "display_data"
    }
   ],
   "source": [
    "#WeeklyStatistics \n",
    "plt.rcParams[\"figure.figsize\"] = [20,12]\n",
    "plt.subplot(3,2,1)\n",
    "plt.hist(week_1,bins = 50,label = 'week 1')\n",
    "plt.legend()\n",
    "plt.subplot(3,2,2)\n",
    "plt.hist(week_2,bins = 50,label = 'week 2')\n",
    "plt.legend()\n",
    "plt.subplot(3,2,3)\n",
    "plt.hist(week_3,bins = 50,label = 'week 3')\n",
    "plt.legend()\n",
    "plt.subplot(3,2,4)\n",
    "plt.hist(week_4,bins = 50,label = 'week 4')\n",
    "plt.legend()\n",
    "plt.subplot(3,2,5)\n",
    "plt.hist(week_5,bins = 50,label = 'week 5')\n",
    "plt.legend()\n",
    "plt.legend()\n",
    "plt.savefig('task5')\n",
    "plt.show()"
   ]
  },
  {
   "cell_type": "code",
   "execution_count": 26,
   "metadata": {
    "collapsed": true
   },
   "outputs": [],
   "source": [
    "grouped = trip_df.groupby('pickup_hour')\n",
    "samples = []\n",
    "\n",
    "for name,group in grouped:\n",
    "    samples.append(group['average_speed'])"
   ]
  },
  {
   "cell_type": "code",
   "execution_count": 27,
   "metadata": {
    "collapsed": false
   },
   "outputs": [
    {
     "data": {
      "text/plain": [
       "F_onewayResult(statistic=4901.4181256899383, pvalue=0.0)"
      ]
     },
     "execution_count": 27,
     "metadata": {},
     "output_type": "execute_result"
    }
   ],
   "source": [
    "sample = samples\n",
    "stats.f_oneway(sample[0],sample[1],sample[2],sample[3], sample[4],sample[5],sample[6],sample[7],sample[8],sample[9],\n",
    "              sample[10],sample[11],sample[12],sample[13],sample[14],sample[15],sample[16],sample[17],sample[18],\n",
    "               sample[19],\n",
    "              sample[20],sample[21],sample[22],sample[23])"
   ]
  },
  {
   "cell_type": "markdown",
   "metadata": {},
   "source": [
    "\n",
    "## The test for sets partitioned as per the hour of the journey also gives a high f-value and p-value of 0, implying that there are statistifically significant differences in the data sets considered."
   ]
  },
  {
   "cell_type": "code",
   "execution_count": 28,
   "metadata": {
    "collapsed": false
   },
   "outputs": [
    {
     "name": "stdout",
     "output_type": "stream",
     "text": [
      "Mean: 14.6648320896\n",
      "Median: 13.4181818182\n",
      "Mean: 14.9192467836\n",
      "Median: 13.728\n",
      "Mean: 15.1347423976\n",
      "Median: 13.9655172414\n",
      "Mean: 15.537595892\n",
      "Median: 14.2243902439\n",
      "Mean: 16.3669991056\n",
      "Median: 14.6597994169\n",
      "Mean: 18.1499520716\n",
      "Median: 16.1937716263\n",
      "Mean: 17.1669571131\n",
      "Median: 15.3365853659\n",
      "Mean: 13.5392247861\n",
      "Median: 12.0550458716\n",
      "Mean: 12.3026723927\n",
      "Median: 11.0204081633\n",
      "Mean: 12.5906252221\n",
      "Median: 11.3286713287\n",
      "Mean: 12.5867679821\n",
      "Median: 11.3606557377\n",
      "Mean: 12.2963558936\n",
      "Median: 11.1070496084\n",
      "Mean: 12.1980039045\n",
      "Median: 11.0278481013\n",
      "Mean: 12.099259879\n",
      "Median: 10.9638932496\n",
      "Mean: 11.6001803151\n",
      "Median: 10.5804066543\n",
      "Mean: 11.221740808\n",
      "Median: 10.3111409501\n",
      "Mean: 10.9908049825\n",
      "Median: 10.1714862332\n",
      "Mean: 10.9586288012\n",
      "Median: 10.2252810984\n",
      "Mean: 11.5489768166\n",
      "Median: 10.7547169811\n",
      "Mean: 12.1046793002\n",
      "Median: 11.232449298\n",
      "Mean: 12.7934866352\n",
      "Median: 11.8224852071\n",
      "Mean: 13.6629796797\n",
      "Median: 12.4897959184\n",
      "Mean: 14.1359640648\n",
      "Median: 12.9327014218\n",
      "Mean: 14.4152452258\n",
      "Median: 13.2050209205\n"
     ]
    }
   ],
   "source": [
    "#Computing Mean and Median Speeds every hour\n",
    "means = []\n",
    "medians = []\n",
    "for hour in range(24):\n",
    "    means.append(statistics.mean(sample[hour]))\n",
    "    print('Mean:',statistics.mean(sample[hour]))\n",
    "    medians.append(statistics.median(sample[hour]))\n",
    "    print('Median:',statistics.median(sample[hour]))"
   ]
  },
  {
   "cell_type": "code",
   "execution_count": 29,
   "metadata": {
    "collapsed": false
   },
   "outputs": [
    {
     "data": {
      "image/png": "[encoded data removed]",
      "text/plain": [
       "<matplotlib.figure.Figure at 0x20b1ab4b780>"
      ]
     },
     "metadata": {},
     "output_type": "display_data"
    }
   ],
   "source": [
    "#Plotting Mean Speed at the hour\n",
    "plt.rcParams[\"figure.figsize\"] = [5,3]\n",
    "index = np.arange(24)\n",
    "bar_width = 0.35\n",
    "opacity = 0.4\n",
    "error_config = {'ecolor': '0.3'}\n",
    "\n",
    "rects1 = plt.bar(index, means, bar_width,\n",
    "                 alpha=opacity,\n",
    "                 color='b',\n",
    "                 error_kw=error_config,\n",
    "                 label='Average speed of a ride at the hour')\n",
    "plt.legend()\n",
    "plt.savefig('task_5_b_1')\n",
    "\n",
    "plt.show()"
   ]
  },
  {
   "cell_type": "code",
   "execution_count": 30,
   "metadata": {
    "collapsed": false
   },
   "outputs": [
    {
     "data": {
      "image/png": "[encoded data removed]",
      "text/plain": [
       "<matplotlib.figure.Figure at 0x20b1b2591d0>"
      ]
     },
     "metadata": {},
     "output_type": "display_data"
    }
   ],
   "source": [
    "#Plotting Median Speed at the hour\n",
    "\n",
    "plt.rcParams[\"figure.figsize\"] = [5,3]\n",
    "index = np.arange(24)\n",
    "bar_width = 0.35\n",
    "opacity = 0.4\n",
    "error_config = {'ecolor': '0.3'}\n",
    "\n",
    "rects1 = plt.bar(index, medians, bar_width,\n",
    "                 alpha=opacity,\n",
    "                 color='b',\n",
    "                 error_kw=error_config,\n",
    "                 label='Median speed of a ride at the hour')\n",
    "plt.legend()\n",
    "plt.savefig('task_5_b_2')\n",
    "\n",
    "plt.show()"
   ]
  },
  {
   "cell_type": "markdown",
   "metadata": {},
   "source": [
    "# Question 4\n",
    "1. Build a derived variable for tip as a percentage of the total fare.\n",
    "\n",
    "2. Build a predictive model for tip as a percentage of the total fare. Use as much of the data as you like (or all of it). We will validate a sample."
   ]
  },
  {
   "cell_type": "code",
   "execution_count": 31,
   "metadata": {
    "collapsed": false
   },
   "outputs": [
    {
     "data": {
      "text/plain": [
       "2    0.125000\n",
       "3    0.000000\n",
       "4    0.000000\n",
       "5    0.247273\n",
       "6    0.000000\n",
       "Name: tip_percent, dtype: float64"
      ]
     },
     "execution_count": 31,
     "metadata": {},
     "output_type": "execute_result"
    }
   ],
   "source": [
    "trip_df['tip_percent'] = trip_df['Tip_amount']/trip_df['Fare_amount']\n",
    "trip_df['tip_percent'].head()\n"
   ]
  },
  {
   "cell_type": "code",
   "execution_count": 32,
   "metadata": {
    "collapsed": true
   },
   "outputs": [],
   "source": [
    "from sklearn import preprocessing\n",
    "from sklearn.preprocessing import OneHotEncoder\n",
    "from sklearn import metrics"
   ]
  },
  {
   "cell_type": "code",
   "execution_count": 33,
   "metadata": {
    "collapsed": true
   },
   "outputs": [],
   "source": [
    "#Cleaning the data\n",
    "\n",
    "def clean_dataset(trip_df):\n",
    "    assert isinstance(trip_df, pd.DataFrame), \"trip_df needs to be a pd.DataFrame\"\n",
    "    trip_df.dropna(inplace=True)\n",
    "    indices_to_keep = ~trip_df.isin([np.nan, np.inf, -np.inf]).any(1)\n",
    "    return trip_df[indices_to_keep].astype(np.float64)"
   ]
  },
  {
   "cell_type": "code",
   "execution_count": 34,
   "metadata": {
    "collapsed": true
   },
   "outputs": [],
   "source": [
    "trip_df.dropna(subset = ['Trip_type '],inplace = True)\n"
   ]
  },
  {
   "cell_type": "markdown",
   "metadata": {},
   "source": [
    "To deal with categorical values we would need to use the one-hot encoding process from the sklearn library which works only on numpy arrays, hence we convert the relevant columns to numpy arrays in further analysis and are encoded to one-hot vectors.\n"
   ]
  },
  {
   "cell_type": "code",
   "execution_count": 35,
   "metadata": {
    "collapsed": false
   },
   "outputs": [
    {
     "name": "stderr",
     "output_type": "stream",
     "text": [
      "C:\\Users\\Neelesh Jayaraman\\Anaconda3\\lib\\site-packages\\sklearn\\preprocessing\\label.py:112: DataConversionWarning: A column-vector y was passed when a 1d array was expected. Please change the shape of y to (n_samples, ), for example using ravel().\n",
      "  y = column_or_1d(y, warn=True)\n"
     ]
    },
    {
     "name": "stdout",
     "output_type": "stream",
     "text": [
      "(1469280, 4)\n"
     ]
    }
   ],
   "source": [
    "#One-Hot encoding \n",
    "X_pre_encode = trip_df['VendorID'].as_matrix()\n",
    "le = preprocessing.LabelEncoder()\n",
    "le.fit(X_pre_encode.reshape(X_pre_encode.shape[0],1))\n",
    "ans = le.transform(X_pre_encode)\n",
    "\n",
    "enc = OneHotEncoder()\n",
    "enc.fit(ans.reshape(X_pre_encode.shape[0],1))\n",
    "ans1 = enc.transform(ans.reshape(X_pre_encode.shape[0],1)).toarray()\n",
    "\n",
    "X_pre_encode = trip_df['Store_and_fwd_flag'].as_matrix()\n",
    "le = preprocessing.LabelEncoder()\n",
    "le.fit(X_pre_encode.reshape(X_pre_encode.shape[0],1))\n",
    "ans = le.transform(X_pre_encode)\n",
    "\n",
    "enc = OneHotEncoder()\n",
    "enc.fit(ans.reshape(X_pre_encode.shape[0],1))\n",
    "ans2 = enc.transform(ans.reshape(X_pre_encode.shape[0],1)).toarray()\n",
    "\n",
    "X = np.c_[ans1,ans2]\n",
    "print(X.shape)"
   ]
  },
  {
   "cell_type": "code",
   "execution_count": 36,
   "metadata": {
    "collapsed": true
   },
   "outputs": [],
   "source": [
    "X = np.c_[X , trip_df['Passenger_count'].as_matrix(),trip_df['Trip_distance'].as_matrix(),trip_df['Fare_amount'].as_matrix(),\n",
    "         trip_df['Extra'].as_matrix(),trip_df['MTA_tax'].as_matrix(),trip_df['Tolls_amount'].as_matrix(),\n",
    "         trip_df['improvement_surcharge'].as_matrix()]"
   ]
  },
  {
   "cell_type": "code",
   "execution_count": 37,
   "metadata": {
    "collapsed": false
   },
   "outputs": [
    {
     "name": "stdout",
     "output_type": "stream",
     "text": [
      "(1469280, 11)\n"
     ]
    }
   ],
   "source": [
    "print(X.shape)\n"
   ]
  },
  {
   "cell_type": "code",
   "execution_count": 38,
   "metadata": {
    "collapsed": false
   },
   "outputs": [
    {
     "name": "stderr",
     "output_type": "stream",
     "text": [
      "C:\\Users\\Neelesh Jayaraman\\Anaconda3\\lib\\site-packages\\sklearn\\preprocessing\\label.py:112: DataConversionWarning: A column-vector y was passed when a 1d array was expected. Please change the shape of y to (n_samples, ), for example using ravel().\n",
      "  y = column_or_1d(y, warn=True)\n"
     ]
    }
   ],
   "source": [
    "\n",
    "for col in ['Payment_type','Trip_type ','pickup_hour','dropoff_hour']:\n",
    "\n",
    "    X_pre_encode = trip_df[col].as_matrix()\n",
    "    le = preprocessing.LabelEncoder()\n",
    "    le.fit(X_pre_encode.reshape(X_pre_encode.shape[0],1))\n",
    "    ans = le.transform(X_pre_encode)\n",
    "\n",
    "    enc = OneHotEncoder()\n",
    "    enc.fit(ans.reshape(X_pre_encode.shape[0],1))\n",
    "    ans2 = enc.transform(ans.reshape(X_pre_encode.shape[0],1)).toarray()\n",
    "    X = np.c_[X,ans2]"
   ]
  },
  {
   "cell_type": "markdown",
   "metadata": {},
   "source": [
    "We choose 13 columns as features for regression."
   ]
  },
  {
   "cell_type": "code",
   "execution_count": 39,
   "metadata": {
    "collapsed": false
   },
   "outputs": [
    {
     "data": {
      "text/plain": [
       "(1469280, 66)"
      ]
     },
     "execution_count": 39,
     "metadata": {},
     "output_type": "execute_result"
    }
   ],
   "source": [
    "X.shape\n"
   ]
  },
  {
   "cell_type": "code",
   "execution_count": 40,
   "metadata": {
    "collapsed": true
   },
   "outputs": [],
   "source": [
    "y = trip_df['tip_percent'].as_matrix()\n"
   ]
  },
  {
   "cell_type": "code",
   "execution_count": 41,
   "metadata": {
    "collapsed": false
   },
   "outputs": [
    {
     "data": {
      "text/plain": [
       "(False, True)"
      ]
     },
     "execution_count": 41,
     "metadata": {},
     "output_type": "execute_result"
    }
   ],
   "source": [
    "np.isnan(X).any(), np.isnan(y).any()\n"
   ]
  },
  {
   "cell_type": "code",
   "execution_count": 42,
   "metadata": {
    "collapsed": false
   },
   "outputs": [
    {
     "data": {
      "text/plain": [
       "Imputer(axis=1, copy=True, missing_values='NaN', strategy='mean', verbose=0)"
      ]
     },
     "execution_count": 42,
     "metadata": {},
     "output_type": "execute_result"
    }
   ],
   "source": [
    "from sklearn.preprocessing import Imputer\n",
    "imputer= Imputer(missing_values='NaN', strategy= 'mean', axis =1) \n",
    "imputer.fit(y)"
   ]
  },
  {
   "cell_type": "code",
   "execution_count": 43,
   "metadata": {
    "collapsed": false
   },
   "outputs": [
    {
     "data": {
      "text/plain": [
       "(False, True)"
      ]
     },
     "execution_count": 43,
     "metadata": {},
     "output_type": "execute_result"
    }
   ],
   "source": [
    "np.isnan(X).any(), np.isnan(y).any()\n"
   ]
  },
  {
   "cell_type": "code",
   "execution_count": 44,
   "metadata": {
    "collapsed": true
   },
   "outputs": [],
   "source": [
    "import sklearn\n",
    "from sklearn.linear_model import LinearRegression"
   ]
  },
  {
   "cell_type": "code",
   "execution_count": 45,
   "metadata": {
    "collapsed": true
   },
   "outputs": [],
   "source": [
    "#Building the Linear Regression Model\n",
    "\n",
    "lreg= LinearRegression()"
   ]
  },
  {
   "cell_type": "code",
   "execution_count": null,
   "metadata": {
    "collapsed": true
   },
   "outputs": [],
   "source": [
    "# Train the model using the training sets and performing regression\n",
    "lreg.fit(X, y)\n",
    "# The coefficients\n",
    "print('Coefficients: \\n', lreg.coef_)\n",
    "# The mean squared error\n",
    "print(\"Mean squared error: %.2f\"\n",
    "      % np.mean((lreg.predict(X) - y) ** 2))\n",
    "# Explained variance score: 1 is perfect prediction\n",
    "print('Variance score: %.2f' % lreg.score(X, y))"
   ]
  },
  {
   "cell_type": "markdown",
   "metadata": {},
   "source": [
    "Coefficients: [ -1.61022847e+05 -1.61022850e+05 1.51733544e+09 1.51733544e+09 5.90246850e-04 -4.53124937e-04 -6.29359269e-04 4.91166058e-03 1.48016374e-02 4.90760803e-03 -2.00187247e-02 2.06673551e+07 2.06673549e+07 2.06673549e+07 2.06673549e+07 2.06673549e+07 2.53230295e+07 2.53230294e+07 -1.10652128e+06 -1.10652128e+06 -1.10652128e+06 -1.10652128e+06 -1.10652129e+06 -1.10652129e+06 -1.10652129e+06 -1.10652130e+06 -1.10652130e+06 -1.10652130e+06 -1.10652130e+06 -1.10652130e+06 -1.10652130e+06 -1.10652130e+06 -1.10652130e+06 -1.10652130e+06 -1.10652130e+06 -1.10652130e+06 -1.10652129e+06 -1.10652129e+06 -1.10652129e+06 -1.10652129e+06 -1.10652128e+06 -1.10652128e+06 8.33896716e+06 8.33896717e+06 8.33896717e+06 8.33896717e+06 8.33896717e+06 8.33896717e+06 8.33896717e+06 8.33896718e+06 8.33896718e+06 8.33896718e+06 8.33896718e+06 8.33896718e+06 8.33896718e+06 8.33896718e+06 8.33896718e+06 8.33896718e+06 8.33896718e+06 8.33896718e+06 8.33896718e+06 8.33896718e+06 8.33896718e+06 8.33896717e+06 8.33896717e+06 8.33896717e+06 -1.48662881e+07 -1.48662881e+07 -1.48662881e+07] \n",
    "Mean squared error: 0.01 \n",
    "Variance score: 0.64"
   ]
  },
  {
   "cell_type": "code",
   "execution_count": null,
   "metadata": {
    "collapsed": true
   },
   "outputs": [],
   "source": [
    "np.abs(lreg.coef_)"
   ]
  },
  {
   "cell_type": "markdown",
   "metadata": {},
   "source": [
    "array([ 1.61022847e+05, 1.61022850e+05, 1.51733544e+09, 1.51733544e+09, 5.90246850e-04, 4.53124937e-04, 6.29359269e-04, 4.91166058e-03, 1.48016374e-02, 4.90760803e-03, 2.00187247e-02, 2.06673551e+07, 2.06673549e+07, 2.06673549e+07, 2.06673549e+07, 2.06673549e+07, 2.53230295e+07, 2.53230294e+07, 1.10652128e+06, 1.10652128e+06, 1.10652128e+06, 1.10652128e+06, 1.10652129e+06, 1.10652129e+06, 1.10652129e+06, 1.10652130e+06, 1.10652130e+06, 1.10652130e+06, 1.10652130e+06, 1.10652130e+06, 1.10652130e+06, 1.10652130e+06, 1.10652130e+06, 1.10652130e+06, 1.10652130e+06, 1.10652130e+06, 1.10652129e+06, 1.10652129e+06, 1.10652129e+06, 1.10652129e+06, 1.10652128e+06, 1.10652128e+06, 8.33896716e+06, 8.33896717e+06, 8.33896717e+06, 8.33896717e+06, 8.33896717e+06, 8.33896717e+06, 8.33896717e+06, 8.33896718e+06, 8.33896718e+06, 8.33896718e+06, 8.33896718e+06, 8.33896718e+06, 8.33896718e+06, 8.33896718e+06, 8.33896718e+06, 8.33896718e+06, 8.33896718e+06, 8.33896718e+06, 8.33896718e+06, 8.33896718e+06, 8.33896718e+06, 8.33896717e+06, 8.33896717e+06, 8.33896717e+06, 1.48662881e+07, 1.48662881e+07, 1.48662881e+07])"
   ]
  }
 ],
 "metadata": {
  "celltoolbar": "Raw Cell Format",
  "kernelspec": {
   "display_name": "Python 2",
   "language": "python",
   "name": "python2"
  },
  "language_info": {
   "codemirror_mode": {
    "name": "ipython",
    "version": 2
   },
   "file_extension": ".py",
   "mimetype": "text/x-python",
   "name": "python",
   "nbconvert_exporter": "python",
   "pygments_lexer": "ipython2",
   "version": "2.7.13"
  }
 },
 "nbformat": 4,
 "nbformat_minor": 2
}
